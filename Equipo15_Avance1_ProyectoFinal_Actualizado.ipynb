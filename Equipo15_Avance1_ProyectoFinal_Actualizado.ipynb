{
  "nbformat": 4,
  "nbformat_minor": 0,
  "metadata": {
    "colab": {
      "provenance": [],
      "include_colab_link": true
    },
    "kernelspec": {
      "name": "python3",
      "display_name": "Python 3"
    },
    "language_info": {
      "name": "python"
    }
  },
  "cells": [
    {
      "cell_type": "markdown",
      "metadata": {
        "id": "view-in-github",
        "colab_type": "text"
      },
      "source": [
        "<a href=\"https://colab.research.google.com/github/PosgradoMNA/Actividades-del-proyecto-equipo15/blob/main/Equipo15_Avance1_ProyectoFinal_Actualizado.ipynb\" target=\"_parent\"><img src=\"https://colab.research.google.com/assets/colab-badge.svg\" alt=\"Open In Colab\"/></a>"
      ]
    },
    {
      "cell_type": "markdown",
      "source": [
        "**COVID-19 World Symptoms Survey Data**\n",
        "\n",
        "---\n",
        "\n"
      ],
      "metadata": {
        "id": "eQ5GotDniCkg"
      }
    },
    {
      "cell_type": "markdown",
      "source": [
        "Equipo 15: \n",
        "\n",
        "*   David Winterman Hemilson\n",
        "*   Samara García González\n",
        "\n"
      ],
      "metadata": {
        "id": "-B8rMZEBhgIK"
      }
    },
    {
      "cell_type": "code",
      "source": [
        "#Nombre que caracteriza el conjunto de datos.\n"
      ],
      "metadata": {
        "id": "xaKzd6XLit2g"
      },
      "execution_count": null,
      "outputs": []
    },
    {
      "cell_type": "markdown",
      "source": [
        "Mexico COVID-19 clinical data"
      ],
      "metadata": {
        "id": "EZd0f7b2jftb"
      }
    },
    {
      "cell_type": "code",
      "source": [
        "#Organización generó el conjunto de datos\n"
      ],
      "metadata": {
        "id": "7coJJaXKjAFp"
      },
      "execution_count": null,
      "outputs": []
    },
    {
      "cell_type": "markdown",
      "source": [
        "Dirección General de Epidemiología Meexicana\n",
        "\n",
        "Los datos se recopilan de la Dirección General de Epidemiología de México, que reporta casos de un modelo centinela (muestras del 10 % de los pacientes) que presentan un diagnóstico respiratorio viral."
      ],
      "metadata": {
        "id": "DeTIJXXdmSIH"
      }
    },
    {
      "cell_type": "code",
      "source": [
        "#Enlace de Internet para descargar la base de datos.\n"
      ],
      "metadata": {
        "id": "83Sc_U2bjCMe"
      },
      "execution_count": null,
      "outputs": []
    },
    {
      "cell_type": "markdown",
      "source": [
        "LINK:https://www.kaggle.com/datasets/marianarfranklin/mexico-covid19-clinical-data/metadata?resource=download"
      ],
      "metadata": {
        "id": "UN0TprmXm6fa"
      }
    },
    {
      "cell_type": "code",
      "source": [
        "#Descripción del conjunto de datos ¿Qué datos contiene?\n"
      ],
      "metadata": {
        "id": "X2T5PkXUjFjJ"
      },
      "execution_count": null,
      "outputs": []
    },
    {
      "cell_type": "markdown",
      "source": [
        "Este conjunto de datos contiene los resultados de las pruebas de PCR en tiempo real para COVID-19 en México según lo informado por la [Dirección General de Epidemiología] (https://www.gob.mx/salud/documentos/datos-abiertos-152127).\n",
        "\n",
        "El conjunto de datos sin procesar oficial está disponible en el sitio web de la Secretaría Oficial de Epidemiología: https://www.gob.mx/salud/documentos/datos-abiertos-152127.\n",
        "\n",
        "Es un conjunto de 263000 datos de pacientes que incluyen pero no se limitan a los siguientes datos:\n",
        "*ID\n",
        "*Entidad federativa\n",
        "*Municipio\n",
        "*Nacionalidad\n",
        "*Resultado de la pueba\n",
        "*Fecha\n",
        "*Defunción\n",
        "*Si el paciente fué intubado\n",
        "*Agravantes ( Tabaquismo , diabetes, hipertensión, persona embarazada) etc."
      ],
      "metadata": {
        "id": "w6MK401inS7T"
      }
    },
    {
      "cell_type": "code",
      "source": [
        "#¿Cuáles son algunas de las preguntas de investigación que podría responder con estos datos?\n"
      ],
      "metadata": {
        "id": "Ufm9T-NpjH2c"
      },
      "execution_count": null,
      "outputs": []
    },
    {
      "cell_type": "markdown",
      "source": [
        "\n",
        "1.   ¿En qué momento de la pandemia se encuentra México actualmente?\n",
        "2.   ¿Qué tanto influye determinado agravante en el desceso de un paciente con COVID-19 en México?\n",
        "3.   ¿Cuál es la entidad federativa con mayor cantidad de casos mortales de COVID 19 en México?\n",
        "4.   ¿Qué porcentaje de mujeres embarazadas sufren complicaciones por COVID 19 en México?\n",
        "5.   ¿Es el género un factor determinante en la tasa de mortalidad por COVID 19 en México?\n",
        "6.   ¿En qué rango de edades se encuentra la mayor cantidad de pacientes positivos para COVID 19?\n",
        "7.   ¿Qué síntomas/agravantes tienen en común pacientes ingresados por sospecha de COVID-19 resultaron negativos, siendo positivos para neumonía?\n",
        "8. ¿Cuál es la relación entre pacientes que fueron intubados y la línea de tiempo en que fueron dados de alta o en su caso fallecieron ? \n",
        "9. ¿Cuáles sintomas son los más comunes en casos mortales?\n",
        "10. ¿cuáles han sido los estados de la república que más casos han recibido debido a cualquier tipo de turismo (residentes de otro estado)?\n",
        "11. ¿El turismo dentro del país ha sido factor para el incremento de contagios?\n",
        "12. ¿cuáles son los estados de la república con menos probabilidad de contagio?\n"
      ],
      "metadata": {
        "id": "F4jyBZWAsdBy"
      }
    },
    {
      "cell_type": "code",
      "source": [
        "#¿Qué actor (empresa, sector de la sociedad, organismo descentralizado, gobierno, etc.) estaría interesado en las preguntas mencionadas que identificó?"
      ],
      "metadata": {
        "id": "W2Jmmeh1jKCB"
      },
      "execution_count": null,
      "outputs": []
    },
    {
      "cell_type": "markdown",
      "source": [
        "El gobierno de México, asi como empresas de seguros, servicios hospitalarios y de investigación para poder tomar las medidas necesarias ante futuros panoramas."
      ],
      "metadata": {
        "id": "1wCbEM5FxHwV"
      }
    }
  ]
}